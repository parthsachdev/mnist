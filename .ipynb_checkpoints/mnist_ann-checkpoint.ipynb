{
 "cells": [
  {
   "cell_type": "code",
   "execution_count": 1,
   "metadata": {},
   "outputs": [
    {
     "name": "stderr",
     "output_type": "stream",
     "text": [
      "C:\\Users\\sachd\\Anaconda3\\lib\\site-packages\\h5py\\__init__.py:36: FutureWarning: Conversion of the second argument of issubdtype from `float` to `np.floating` is deprecated. In future, it will be treated as `np.float64 == np.dtype(float).type`.\n",
      "  from ._conv import register_converters as _register_converters\n",
      "Using TensorFlow backend.\n"
     ]
    }
   ],
   "source": [
    "import numpy as np\n",
    "from keras.datasets import mnist\n",
    "from keras.models import Sequential\n",
    "from keras.layers import Dense\n",
    "from keras.layers import Dropout\n",
    "from keras.utils import np_utils"
   ]
  },
  {
   "cell_type": "code",
   "execution_count": 3,
   "metadata": {
    "collapsed": true
   },
   "outputs": [],
   "source": [
    "import matplotlib.pyplot as plt"
   ]
  },
  {
   "cell_type": "code",
   "execution_count": 4,
   "metadata": {
    "collapsed": true
   },
   "outputs": [],
   "source": [
    "seed = 7\n",
    "np.random.seed(seed)"
   ]
  },
  {
   "cell_type": "code",
   "execution_count": 38,
   "metadata": {
    "collapsed": true
   },
   "outputs": [],
   "source": [
    "# load data\n",
    "(x_train, y_train), (x_test, y_test) = mnist.load_data()"
   ]
  },
  {
   "cell_type": "code",
   "execution_count": 39,
   "metadata": {
    "collapsed": true
   },
   "outputs": [],
   "source": [
    "num_pixels = x_train.shape[1]*x_train.shape[2]\n",
    "x_train = x_train.reshape(x_train.shape[0], num_pixels).astype('float32')\n",
    "x_test = x_test.reshape(x_test.shape[0], num_pixels).astype('float32')"
   ]
  },
  {
   "cell_type": "code",
   "execution_count": 40,
   "metadata": {},
   "outputs": [],
   "source": [
    "# normalise to 0 to 1\n",
    "x_train /= 255\n",
    "x_test /= 255"
   ]
  },
  {
   "cell_type": "code",
   "execution_count": 41,
   "metadata": {
    "collapsed": true
   },
   "outputs": [],
   "source": [
    "y_train = np_utils.to_categorical(y_train)\n",
    "y_test = np_utils.to_categorical(y_test)\n",
    "num_classes = y_test.shape[1]  # 10 classes"
   ]
  },
  {
   "cell_type": "code",
   "execution_count": 42,
   "metadata": {
    "collapsed": true
   },
   "outputs": [],
   "source": [
    "def baseline_model():\n",
    "    # create model\n",
    "    model = Sequential()\n",
    "    model.add(Dense(num_pixels,  # no. of nodes = 784\n",
    "                    input_dim = num_pixels,\n",
    "                    kernel_initializer = 'normal',\n",
    "                    activation = 'relu'))\n",
    "    model.add(Dense(num_classes,\n",
    "                    kernel_initializer = 'normal',\n",
    "                    activation = 'softmax'))\n",
    "    # compile model\n",
    "    model.compile(loss = 'categorical_crossentropy',\n",
    "                 optimizer = 'adam',\n",
    "                 metrics = ['accuracy'])\n",
    "    return model"
   ]
  },
  {
   "cell_type": "code",
   "execution_count": 47,
   "metadata": {
    "collapsed": true
   },
   "outputs": [],
   "source": [
    "# build the model\n",
    "model = baseline_model()"
   ]
  },
  {
   "cell_type": "code",
   "execution_count": null,
   "metadata": {},
   "outputs": [
    {
     "name": "stdout",
     "output_type": "stream",
     "text": [
      "Train on 60000 samples, validate on 10000 samples\n",
      "Epoch 1/10\n",
      " - 8s - loss: 0.2760 - acc: 0.9198 - val_loss: 0.1423 - val_acc: 0.9592\n",
      "Epoch 2/10\n",
      " - 9s - loss: 0.1094 - acc: 0.9684 - val_loss: 0.0923 - val_acc: 0.9723\n",
      "Epoch 3/10\n",
      " - 9s - loss: 0.0706 - acc: 0.9799 - val_loss: 0.0769 - val_acc: 0.9770\n",
      "Epoch 4/10\n",
      " - 8s - loss: 0.0498 - acc: 0.9851 - val_loss: 0.0707 - val_acc: 0.9788\n",
      "Epoch 5/10\n"
     ]
    }
   ],
   "source": [
    "#  fit the model\n",
    "model.fit(x_train, y_train, validation_data = (x_test, y_test), epochs = 10, batch_size = 200, verbose = 2)"
   ]
  },
  {
   "cell_type": "code",
   "execution_count": 43,
   "metadata": {},
   "outputs": [
    {
     "name": "stdout",
     "output_type": "stream",
     "text": [
      "Train on 60000 samples, validate on 10000 samples\n",
      "Epoch 1/10\n",
      " - 8s - loss: 0.2720 - acc: 0.9227 - val_loss: 0.1396 - val_acc: 0.9601\n",
      "Epoch 2/10\n",
      " - 8s - loss: 0.1102 - acc: 0.9679 - val_loss: 0.0956 - val_acc: 0.9700\n",
      "Epoch 3/10\n",
      " - 8s - loss: 0.0698 - acc: 0.9801 - val_loss: 0.0734 - val_acc: 0.9777\n",
      "Epoch 4/10\n",
      " - 8s - loss: 0.0490 - acc: 0.9861 - val_loss: 0.0693 - val_acc: 0.9792\n",
      "Epoch 5/10\n",
      " - 8s - loss: 0.0357 - acc: 0.9898 - val_loss: 0.0663 - val_acc: 0.9799\n",
      "Epoch 6/10\n",
      " - 8s - loss: 0.0263 - acc: 0.9932 - val_loss: 0.0685 - val_acc: 0.9791\n",
      "Epoch 7/10\n",
      " - 8s - loss: 0.0197 - acc: 0.9954 - val_loss: 0.0599 - val_acc: 0.9812\n",
      "Epoch 8/10\n",
      " - 8s - loss: 0.0151 - acc: 0.9965 - val_loss: 0.0582 - val_acc: 0.9806\n",
      "Epoch 9/10\n",
      " - 8s - loss: 0.0103 - acc: 0.9979 - val_loss: 0.0623 - val_acc: 0.9804\n",
      "Epoch 10/10\n",
      " - 8s - loss: 0.0071 - acc: 0.9989 - val_loss: 0.0573 - val_acc: 0.9828\n"
     ]
    }
   ],
   "source": [
    "# final evaluation of the model\n",
    "scores = model.evaluate(x_test, y_test, verbose = 1)\n",
    "# print(\"Baseline Error: %.2f%%\" % (100-scores[1]*100))"
   ]
  },
  {
   "cell_type": "code",
   "execution_count": 46,
   "metadata": {},
   "outputs": [
    {
     "data": {
      "text/plain": [
       "[0.05728502538636385, 0.9828]"
      ]
     },
     "execution_count": 46,
     "metadata": {},
     "output_type": "execute_result"
    }
   ],
   "source": [
    "scores"
   ]
  },
  {
   "cell_type": "code",
   "execution_count": null,
   "metadata": {
    "collapsed": true
   },
   "outputs": [],
   "source": []
  }
 ],
 "metadata": {
  "kernelspec": {
   "display_name": "Python 3",
   "language": "python",
   "name": "python3"
  },
  "language_info": {
   "codemirror_mode": {
    "name": "ipython",
    "version": 3
   },
   "file_extension": ".py",
   "mimetype": "text/x-python",
   "name": "python",
   "nbconvert_exporter": "python",
   "pygments_lexer": "ipython3",
   "version": "3.7.3"
  }
 },
 "nbformat": 4,
 "nbformat_minor": 2
}
